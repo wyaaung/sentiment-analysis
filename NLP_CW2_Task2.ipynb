{
  "cells": [
    {
      "cell_type": "code",
      "execution_count": 1,
      "metadata": {
        "colab": {
          "base_uri": "https://localhost:8080/"
        },
        "id": "wSYIqJzMuYgS",
        "outputId": "574508ed-390e-4360-8e3d-1bd2d727cd0d"
      },
      "outputs": [
        {
          "name": "stdout",
          "output_type": "stream",
          "text": [
            "Drive already mounted at /content/drive; to attempt to forcibly remount, call drive.mount(\"/content/drive\", force_remount=True).\n"
          ]
        }
      ],
      "source": [
        "from google.colab import drive\n",
        "\n",
        "drive.mount(\"/content/drive\")"
      ]
    },
    {
      "cell_type": "code",
      "execution_count": 2,
      "metadata": {
        "id": "WcybVRh0vCu5"
      },
      "outputs": [],
      "source": [
        "# You can change the paths here.\n",
        "\n",
        "# Text files' folder path\n",
        "texts_folder_path = \"/content/drive/MyDrive/product_reviews\""
      ]
    },
    {
      "cell_type": "code",
      "execution_count": 3,
      "metadata": {
        "colab": {
          "base_uri": "https://localhost:8080/"
        },
        "id": "A-UBR7T3vImX",
        "outputId": "b46ab31a-9f73-4c39-d1c4-dfa766bb7e0a"
      },
      "outputs": [
        {
          "name": "stdout",
          "output_type": "stream",
          "text": [
            "Looking in indexes: https://pypi.org/simple, https://us-python.pkg.dev/colab-wheels/public/simple/\n",
            "Requirement already satisfied: nltk in /usr/local/lib/python3.8/dist-packages (3.7)\n",
            "Requirement already satisfied: tqdm in /usr/local/lib/python3.8/dist-packages (from nltk) (4.64.1)\n",
            "Requirement already satisfied: click in /usr/local/lib/python3.8/dist-packages (from nltk) (7.1.2)\n",
            "Requirement already satisfied: joblib in /usr/local/lib/python3.8/dist-packages (from nltk) (1.2.0)\n",
            "Requirement already satisfied: regex>=2021.8.3 in /usr/local/lib/python3.8/dist-packages (from nltk) (2022.6.2)\n",
            "Looking in indexes: https://pypi.org/simple, https://us-python.pkg.dev/colab-wheels/public/simple/\n",
            "Requirement already satisfied: pandas in /usr/local/lib/python3.8/dist-packages (1.3.5)\n",
            "Requirement already satisfied: numpy>=1.17.3 in /usr/local/lib/python3.8/dist-packages (from pandas) (1.21.6)\n",
            "Requirement already satisfied: pytz>=2017.3 in /usr/local/lib/python3.8/dist-packages (from pandas) (2022.6)\n",
            "Requirement already satisfied: python-dateutil>=2.7.3 in /usr/local/lib/python3.8/dist-packages (from pandas) (2.8.2)\n",
            "Requirement already satisfied: six>=1.5 in /usr/local/lib/python3.8/dist-packages (from python-dateutil>=2.7.3->pandas) (1.15.0)\n",
            "Looking in indexes: https://pypi.org/simple, https://us-python.pkg.dev/colab-wheels/public/simple/\n",
            "Requirement already satisfied: tensorflow in /usr/local/lib/python3.8/dist-packages (2.9.2)\n",
            "Requirement already satisfied: google-pasta>=0.1.1 in /usr/local/lib/python3.8/dist-packages (from tensorflow) (0.2.0)\n",
            "Requirement already satisfied: wrapt>=1.11.0 in /usr/local/lib/python3.8/dist-packages (from tensorflow) (1.14.1)\n",
            "Requirement already satisfied: six>=1.12.0 in /usr/local/lib/python3.8/dist-packages (from tensorflow) (1.15.0)\n",
            "Requirement already satisfied: keras<2.10.0,>=2.9.0rc0 in /usr/local/lib/python3.8/dist-packages (from tensorflow) (2.9.0)\n",
            "Requirement already satisfied: numpy>=1.20 in /usr/local/lib/python3.8/dist-packages (from tensorflow) (1.21.6)\n",
            "Requirement already satisfied: typing-extensions>=3.6.6 in /usr/local/lib/python3.8/dist-packages (from tensorflow) (4.4.0)\n",
            "Requirement already satisfied: tensorboard<2.10,>=2.9 in /usr/local/lib/python3.8/dist-packages (from tensorflow) (2.9.1)\n",
            "Requirement already satisfied: packaging in /usr/local/lib/python3.8/dist-packages (from tensorflow) (21.3)\n",
            "Requirement already satisfied: libclang>=13.0.0 in /usr/local/lib/python3.8/dist-packages (from tensorflow) (14.0.6)\n",
            "Requirement already satisfied: tensorflow-io-gcs-filesystem>=0.23.1 in /usr/local/lib/python3.8/dist-packages (from tensorflow) (0.28.0)\n",
            "Requirement already satisfied: opt-einsum>=2.3.2 in /usr/local/lib/python3.8/dist-packages (from tensorflow) (3.3.0)\n",
            "Requirement already satisfied: flatbuffers<2,>=1.12 in /usr/local/lib/python3.8/dist-packages (from tensorflow) (1.12)\n",
            "Requirement already satisfied: astunparse>=1.6.0 in /usr/local/lib/python3.8/dist-packages (from tensorflow) (1.6.3)\n",
            "Requirement already satisfied: termcolor>=1.1.0 in /usr/local/lib/python3.8/dist-packages (from tensorflow) (2.1.1)\n",
            "Requirement already satisfied: tensorflow-estimator<2.10.0,>=2.9.0rc0 in /usr/local/lib/python3.8/dist-packages (from tensorflow) (2.9.0)\n",
            "Requirement already satisfied: protobuf<3.20,>=3.9.2 in /usr/local/lib/python3.8/dist-packages (from tensorflow) (3.19.6)\n",
            "Requirement already satisfied: absl-py>=1.0.0 in /usr/local/lib/python3.8/dist-packages (from tensorflow) (1.3.0)\n",
            "Requirement already satisfied: h5py>=2.9.0 in /usr/local/lib/python3.8/dist-packages (from tensorflow) (3.1.0)\n",
            "Requirement already satisfied: grpcio<2.0,>=1.24.3 in /usr/local/lib/python3.8/dist-packages (from tensorflow) (1.51.1)\n",
            "Requirement already satisfied: setuptools in /usr/local/lib/python3.8/dist-packages (from tensorflow) (57.4.0)\n",
            "Requirement already satisfied: keras-preprocessing>=1.1.1 in /usr/local/lib/python3.8/dist-packages (from tensorflow) (1.1.2)\n",
            "Requirement already satisfied: gast<=0.4.0,>=0.2.1 in /usr/local/lib/python3.8/dist-packages (from tensorflow) (0.4.0)\n",
            "Requirement already satisfied: wheel<1.0,>=0.23.0 in /usr/local/lib/python3.8/dist-packages (from astunparse>=1.6.0->tensorflow) (0.38.4)\n",
            "Requirement already satisfied: tensorboard-data-server<0.7.0,>=0.6.0 in /usr/local/lib/python3.8/dist-packages (from tensorboard<2.10,>=2.9->tensorflow) (0.6.1)\n",
            "Requirement already satisfied: google-auth<3,>=1.6.3 in /usr/local/lib/python3.8/dist-packages (from tensorboard<2.10,>=2.9->tensorflow) (2.15.0)\n",
            "Requirement already satisfied: werkzeug>=1.0.1 in /usr/local/lib/python3.8/dist-packages (from tensorboard<2.10,>=2.9->tensorflow) (1.0.1)\n",
            "Requirement already satisfied: markdown>=2.6.8 in /usr/local/lib/python3.8/dist-packages (from tensorboard<2.10,>=2.9->tensorflow) (3.4.1)\n",
            "Requirement already satisfied: requests<3,>=2.21.0 in /usr/local/lib/python3.8/dist-packages (from tensorboard<2.10,>=2.9->tensorflow) (2.23.0)\n",
            "Requirement already satisfied: google-auth-oauthlib<0.5,>=0.4.1 in /usr/local/lib/python3.8/dist-packages (from tensorboard<2.10,>=2.9->tensorflow) (0.4.6)\n",
            "Requirement already satisfied: tensorboard-plugin-wit>=1.6.0 in /usr/local/lib/python3.8/dist-packages (from tensorboard<2.10,>=2.9->tensorflow) (1.8.1)\n",
            "Requirement already satisfied: cachetools<6.0,>=2.0.0 in /usr/local/lib/python3.8/dist-packages (from google-auth<3,>=1.6.3->tensorboard<2.10,>=2.9->tensorflow) (5.2.0)\n",
            "Requirement already satisfied: rsa<5,>=3.1.4 in /usr/local/lib/python3.8/dist-packages (from google-auth<3,>=1.6.3->tensorboard<2.10,>=2.9->tensorflow) (4.9)\n",
            "Requirement already satisfied: pyasn1-modules>=0.2.1 in /usr/local/lib/python3.8/dist-packages (from google-auth<3,>=1.6.3->tensorboard<2.10,>=2.9->tensorflow) (0.2.8)\n",
            "Requirement already satisfied: requests-oauthlib>=0.7.0 in /usr/local/lib/python3.8/dist-packages (from google-auth-oauthlib<0.5,>=0.4.1->tensorboard<2.10,>=2.9->tensorflow) (1.3.1)\n",
            "Requirement already satisfied: importlib-metadata>=4.4 in /usr/local/lib/python3.8/dist-packages (from markdown>=2.6.8->tensorboard<2.10,>=2.9->tensorflow) (5.1.0)\n",
            "Requirement already satisfied: zipp>=0.5 in /usr/local/lib/python3.8/dist-packages (from importlib-metadata>=4.4->markdown>=2.6.8->tensorboard<2.10,>=2.9->tensorflow) (3.11.0)\n",
            "Requirement already satisfied: pyasn1<0.5.0,>=0.4.6 in /usr/local/lib/python3.8/dist-packages (from pyasn1-modules>=0.2.1->google-auth<3,>=1.6.3->tensorboard<2.10,>=2.9->tensorflow) (0.4.8)\n",
            "Requirement already satisfied: certifi>=2017.4.17 in /usr/local/lib/python3.8/dist-packages (from requests<3,>=2.21.0->tensorboard<2.10,>=2.9->tensorflow) (2022.12.7)\n",
            "Requirement already satisfied: idna<3,>=2.5 in /usr/local/lib/python3.8/dist-packages (from requests<3,>=2.21.0->tensorboard<2.10,>=2.9->tensorflow) (2.10)\n",
            "Requirement already satisfied: urllib3!=1.25.0,!=1.25.1,<1.26,>=1.21.1 in /usr/local/lib/python3.8/dist-packages (from requests<3,>=2.21.0->tensorboard<2.10,>=2.9->tensorflow) (1.24.3)\n",
            "Requirement already satisfied: chardet<4,>=3.0.2 in /usr/local/lib/python3.8/dist-packages (from requests<3,>=2.21.0->tensorboard<2.10,>=2.9->tensorflow) (3.0.4)\n",
            "Requirement already satisfied: oauthlib>=3.0.0 in /usr/local/lib/python3.8/dist-packages (from requests-oauthlib>=0.7.0->google-auth-oauthlib<0.5,>=0.4.1->tensorboard<2.10,>=2.9->tensorflow) (3.2.2)\n",
            "Requirement already satisfied: pyparsing!=3.0.5,>=2.0.2 in /usr/local/lib/python3.8/dist-packages (from packaging->tensorflow) (3.0.9)\n",
            "Looking in indexes: https://pypi.org/simple, https://us-python.pkg.dev/colab-wheels/public/simple/\n",
            "Requirement already satisfied: keras in /usr/local/lib/python3.8/dist-packages (2.9.0)\n"
          ]
        }
      ],
      "source": [
        "!pip install nltk\n",
        "!pip install pandas\n",
        "!pip install tensorflow\n",
        "!pip install keras"
      ]
    },
    {
      "cell_type": "code",
      "execution_count": 4,
      "metadata": {
        "colab": {
          "base_uri": "https://localhost:8080/"
        },
        "id": "DBHEY0UkvKoi",
        "outputId": "82d3215c-8734-4b8a-ad28-f639323194e6"
      },
      "outputs": [
        {
          "name": "stderr",
          "output_type": "stream",
          "text": [
            "[nltk_data] Downloading package stopwords to /root/nltk_data...\n",
            "[nltk_data]   Package stopwords is already up-to-date!\n",
            "[nltk_data] Downloading package wordnet to /root/nltk_data...\n",
            "[nltk_data]   Package wordnet is already up-to-date!\n",
            "[nltk_data] Downloading package punkt to /root/nltk_data...\n",
            "[nltk_data]   Package punkt is already up-to-date!\n",
            "[nltk_data] Downloading package omw-1.4 to /root/nltk_data...\n",
            "[nltk_data]   Package omw-1.4 is already up-to-date!\n",
            "[nltk_data] Downloading package averaged_perceptron_tagger to\n",
            "[nltk_data]     /root/nltk_data...\n",
            "[nltk_data]   Package averaged_perceptron_tagger is already up-to-\n",
            "[nltk_data]       date!\n"
          ]
        },
        {
          "data": {
            "text/plain": [
              "True"
            ]
          },
          "execution_count": 4,
          "metadata": {},
          "output_type": "execute_result"
        }
      ],
      "source": [
        "import os\n",
        "import string\n",
        "import numpy as np\n",
        "import pandas as pd\n",
        "import matplotlib.pyplot as plt\n",
        "\n",
        "from nltk.corpus import stopwords\n",
        "from sklearn.model_selection import train_test_split, KFold\n",
        "from sklearn.metrics import classification_report\n",
        "\n",
        "from keras.preprocessing.text import Tokenizer\n",
        "from keras.utils import pad_sequences\n",
        "from keras.models import Sequential\n",
        "from keras.layers import Dense, Embedding, LSTM, SpatialDropout1D\n",
        "from keras.callbacks import EarlyStopping\n",
        "\n",
        "from nltk import download\n",
        "\n",
        "download(\"stopwords\")\n",
        "download(\"wordnet\")\n",
        "download(\"punkt\")\n",
        "download(\"omw-1.4\")\n",
        "download(\"averaged_perceptron_tagger\")"
      ]
    },
    {
      "cell_type": "code",
      "execution_count": 5,
      "metadata": {
        "colab": {
          "base_uri": "https://localhost:8080/",
          "height": 419
        },
        "id": "sIY1U4YKuxvs",
        "outputId": "d65e1c66-5c75-41c9-bcdc-175104956efc"
      },
      "outputs": [
        {
          "data": {
            "text/html": [
              "\n",
              "  <div id=\"df-1f4a985c-2354-46e5-a9f9-7463bdecd83b\">\n",
              "    <div class=\"colab-df-container\">\n",
              "      <div>\n",
              "<style scoped>\n",
              "    .dataframe tbody tr th:only-of-type {\n",
              "        vertical-align: middle;\n",
              "    }\n",
              "\n",
              "    .dataframe tbody tr th {\n",
              "        vertical-align: top;\n",
              "    }\n",
              "\n",
              "    .dataframe thead th {\n",
              "        text-align: right;\n",
              "    }\n",
              "</style>\n",
              "<table border=\"1\" class=\"dataframe\">\n",
              "  <thead>\n",
              "    <tr style=\"text-align: right;\">\n",
              "      <th></th>\n",
              "      <th>sentiment</th>\n",
              "      <th>review</th>\n",
              "    </tr>\n",
              "  </thead>\n",
              "  <tbody>\n",
              "    <tr>\n",
              "      <th>0</th>\n",
              "      <td>positive</td>\n",
              "      <td>i purchased this router at a woodworking show ...</td>\n",
              "    </tr>\n",
              "    <tr>\n",
              "      <th>1</th>\n",
              "      <td>negative</td>\n",
              "      <td>it ain't cutting edge (no pun intended) state ...</td>\n",
              "    </tr>\n",
              "    <tr>\n",
              "      <th>2</th>\n",
              "      <td>positive</td>\n",
              "      <td>hitachi's m12v is a big beast of a router.weig...</td>\n",
              "    </tr>\n",
              "    <tr>\n",
              "      <th>3</th>\n",
              "      <td>positive</td>\n",
              "      <td>this is truly a clydesdale among the industry ...</td>\n",
              "    </tr>\n",
              "    <tr>\n",
              "      <th>4</th>\n",
              "      <td>positive</td>\n",
              "      <td>this is an excellent router for the money.</td>\n",
              "    </tr>\n",
              "    <tr>\n",
              "      <th>...</th>\n",
              "      <td>...</td>\n",
              "      <td>...</td>\n",
              "    </tr>\n",
              "    <tr>\n",
              "      <th>436</th>\n",
              "      <td>positive</td>\n",
              "      <td>the ear buds that come with it look cheap, but...</td>\n",
              "    </tr>\n",
              "    <tr>\n",
              "      <th>437</th>\n",
              "      <td>positive</td>\n",
              "      <td>the click wheel is incredibly convenient, ho...</td>\n",
              "    </tr>\n",
              "    <tr>\n",
              "      <th>438</th>\n",
              "      <td>positive</td>\n",
              "      <td>i am a big fan of itunes, simply because it i...</td>\n",
              "    </tr>\n",
              "    <tr>\n",
              "      <th>439</th>\n",
              "      <td>positive</td>\n",
              "      <td>way to go apple!</td>\n",
              "    </tr>\n",
              "    <tr>\n",
              "      <th>440</th>\n",
              "      <td>positive</td>\n",
              "      <td>i rarely get drawn in by mass-commercialism, b...</td>\n",
              "    </tr>\n",
              "  </tbody>\n",
              "</table>\n",
              "<p>441 rows × 2 columns</p>\n",
              "</div>\n",
              "      <button class=\"colab-df-convert\" onclick=\"convertToInteractive('df-1f4a985c-2354-46e5-a9f9-7463bdecd83b')\"\n",
              "              title=\"Convert this dataframe to an interactive table.\"\n",
              "              style=\"display:none;\">\n",
              "        \n",
              "  <svg xmlns=\"http://www.w3.org/2000/svg\" height=\"24px\"viewBox=\"0 0 24 24\"\n",
              "       width=\"24px\">\n",
              "    <path d=\"M0 0h24v24H0V0z\" fill=\"none\"/>\n",
              "    <path d=\"M18.56 5.44l.94 2.06.94-2.06 2.06-.94-2.06-.94-.94-2.06-.94 2.06-2.06.94zm-11 1L8.5 8.5l.94-2.06 2.06-.94-2.06-.94L8.5 2.5l-.94 2.06-2.06.94zm10 10l.94 2.06.94-2.06 2.06-.94-2.06-.94-.94-2.06-.94 2.06-2.06.94z\"/><path d=\"M17.41 7.96l-1.37-1.37c-.4-.4-.92-.59-1.43-.59-.52 0-1.04.2-1.43.59L10.3 9.45l-7.72 7.72c-.78.78-.78 2.05 0 2.83L4 21.41c.39.39.9.59 1.41.59.51 0 1.02-.2 1.41-.59l7.78-7.78 2.81-2.81c.8-.78.8-2.07 0-2.86zM5.41 20L4 18.59l7.72-7.72 1.47 1.35L5.41 20z\"/>\n",
              "  </svg>\n",
              "      </button>\n",
              "      \n",
              "  <style>\n",
              "    .colab-df-container {\n",
              "      display:flex;\n",
              "      flex-wrap:wrap;\n",
              "      gap: 12px;\n",
              "    }\n",
              "\n",
              "    .colab-df-convert {\n",
              "      background-color: #E8F0FE;\n",
              "      border: none;\n",
              "      border-radius: 50%;\n",
              "      cursor: pointer;\n",
              "      display: none;\n",
              "      fill: #1967D2;\n",
              "      height: 32px;\n",
              "      padding: 0 0 0 0;\n",
              "      width: 32px;\n",
              "    }\n",
              "\n",
              "    .colab-df-convert:hover {\n",
              "      background-color: #E2EBFA;\n",
              "      box-shadow: 0px 1px 2px rgba(60, 64, 67, 0.3), 0px 1px 3px 1px rgba(60, 64, 67, 0.15);\n",
              "      fill: #174EA6;\n",
              "    }\n",
              "\n",
              "    [theme=dark] .colab-df-convert {\n",
              "      background-color: #3B4455;\n",
              "      fill: #D2E3FC;\n",
              "    }\n",
              "\n",
              "    [theme=dark] .colab-df-convert:hover {\n",
              "      background-color: #434B5C;\n",
              "      box-shadow: 0px 1px 3px 1px rgba(0, 0, 0, 0.15);\n",
              "      filter: drop-shadow(0px 1px 2px rgba(0, 0, 0, 0.3));\n",
              "      fill: #FFFFFF;\n",
              "    }\n",
              "  </style>\n",
              "\n",
              "      <script>\n",
              "        const buttonEl =\n",
              "          document.querySelector('#df-1f4a985c-2354-46e5-a9f9-7463bdecd83b button.colab-df-convert');\n",
              "        buttonEl.style.display =\n",
              "          google.colab.kernel.accessAllowed ? 'block' : 'none';\n",
              "\n",
              "        async function convertToInteractive(key) {\n",
              "          const element = document.querySelector('#df-1f4a985c-2354-46e5-a9f9-7463bdecd83b');\n",
              "          const dataTable =\n",
              "            await google.colab.kernel.invokeFunction('convertToInteractive',\n",
              "                                                     [key], {});\n",
              "          if (!dataTable) return;\n",
              "\n",
              "          const docLinkHtml = 'Like what you see? Visit the ' +\n",
              "            '<a target=\"_blank\" href=https://colab.research.google.com/notebooks/data_table.ipynb>data table notebook</a>'\n",
              "            + ' to learn more about interactive tables.';\n",
              "          element.innerHTML = '';\n",
              "          dataTable['output_type'] = 'display_data';\n",
              "          await google.colab.output.renderOutput(dataTable, element);\n",
              "          const docLink = document.createElement('div');\n",
              "          docLink.innerHTML = docLinkHtml;\n",
              "          element.appendChild(docLink);\n",
              "        }\n",
              "      </script>\n",
              "    </div>\n",
              "  </div>\n",
              "  "
            ],
            "text/plain": [
              "    sentiment                                             review\n",
              "0    positive  i purchased this router at a woodworking show ...\n",
              "1    negative  it ain't cutting edge (no pun intended) state ...\n",
              "2    positive  hitachi's m12v is a big beast of a router.weig...\n",
              "3    positive  this is truly a clydesdale among the industry ...\n",
              "4    positive         this is an excellent router for the money.\n",
              "..        ...                                                ...\n",
              "436  positive  the ear buds that come with it look cheap, but...\n",
              "437  positive    the click wheel is incredibly convenient, ho...\n",
              "438  positive   i am a big fan of itunes, simply because it i...\n",
              "439  positive                                 way to go apple!  \n",
              "440  positive  i rarely get drawn in by mass-commercialism, b...\n",
              "\n",
              "[441 rows x 2 columns]"
            ]
          },
          "execution_count": 5,
          "metadata": {},
          "output_type": "execute_result"
        }
      ],
      "source": [
        "# Text Processing\n",
        "files = [file for file in os.listdir(texts_folder_path) if file != \"README.txt\"]\n",
        "\n",
        "translational_table = str.maketrans(\n",
        "    \"\",\n",
        "    \"\",\n",
        "    (string.punctuation) + \"§―•\\t←→\",\n",
        ")\n",
        "# All possible stopwords\n",
        "stop_words = set(stopwords.words(\"english\"))\n",
        "\n",
        "# Extracting Raw Reviews depending on files\n",
        "all_raw_reviews = []\n",
        "for filename in files:\n",
        "    with open(texts_folder_path + \"/\" + filename, \"r\", encoding=\"utf-8-sig\") as file:\n",
        "        raw_text = file.read()\n",
        "\n",
        "    if filename != \"Canon_PowerShot_SD500.txt\" and filename != \"ipod.txt\":\n",
        "        # split by [t], each item is a review\n",
        "        raw_reviews = [\n",
        "            line.replace(\"\\n\", \"\")\n",
        "            for line in raw_text.lower()\n",
        "            .replace(\"/\", \" \")\n",
        "            .replace(\"[+]\", \"[+1]\")\n",
        "            .replace(\"[-]\", \"[-1]\")\n",
        "            .split(\"[t]\")\n",
        "            if line != \"\"\n",
        "        ]\n",
        "    # We treat each sentence as a separate review\n",
        "    # Since there's no explicit separator\n",
        "    # More useful than viewing file as one big review\n",
        "    else:\n",
        "        raw_reviews = [\n",
        "            line\n",
        "            for line in raw_text.lower()\n",
        "            .replace(\"/\", \" \")\n",
        "            .replace(\"[+]\", \"[+1]\")\n",
        "            .replace(\"[-]\", \"[-1]\")\n",
        "            .replace(\"[t]\", \"\")\n",
        "            .split(\"\\n\")\n",
        "            if line != \"\"\n",
        "        ]\n",
        "\n",
        "    all_raw_reviews += raw_reviews\n",
        "\n",
        "all_processed_reviews = []\n",
        "# Going through all reviews\n",
        "# Taking only positive and negative review\n",
        "for review in all_raw_reviews:\n",
        "    tag_and_rev = review.split(\"##\")\n",
        "    if len(tag_and_rev) < 2:\n",
        "        continue\n",
        "    else:\n",
        "        sentiment = (\n",
        "            tag_and_rev[0].count(\"[+1]\")\n",
        "            + tag_and_rev[0].count(\"[+2]\") * 2\n",
        "            + tag_and_rev[0].count(\"[+3]\") * 3\n",
        "        )\n",
        "        sentiment -= (\n",
        "            tag_and_rev[0].count(\"[-1]\")\n",
        "            + tag_and_rev[0].count(\"[-2]\") * 2\n",
        "            + tag_and_rev[0].count(\"[-3]\") * 3\n",
        "        )\n",
        "        if sentiment > 0:\n",
        "            all_processed_reviews.append({\"sentiment\": \"positive\", \"review\": tag_and_rev[1]})\n",
        "        elif sentiment < 0:\n",
        "            all_processed_reviews.append({\"sentiment\": \"negative\", \"review\": tag_and_rev[1]})\n",
        "drafted_df = pd.DataFrame(all_processed_reviews)\n",
        "drafted_df"
      ]
    },
    {
      "cell_type": "code",
      "execution_count": 6,
      "metadata": {
        "colab": {
          "base_uri": "https://localhost:8080/"
        },
        "id": "ySW2dJm5MSHn",
        "outputId": "6d884169-a7ca-4206-9444-39cd6e130630"
      },
      "outputs": [
        {
          "data": {
            "text/plain": [
              "positive    318\n",
              "negative    123\n",
              "Name: sentiment, dtype: int64"
            ]
          },
          "execution_count": 6,
          "metadata": {},
          "output_type": "execute_result"
        }
      ],
      "source": [
        "# Printing out\n",
        "drafted_df[\"sentiment\"].value_counts()"
      ]
    },
    {
      "cell_type": "code",
      "execution_count": 7,
      "metadata": {
        "id": "FamOqb6TmZxP"
      },
      "outputs": [],
      "source": [
        "# Preprocessing Function\n",
        "def preprcessing(review):\n",
        "    # Removing stopwords and unnecessary symbols\n",
        "    text = review.translate(translational_table)\n",
        "    text = \" \".join(word for word in text.split() if word not in stop_words)\n",
        "    return text"
      ]
    },
    {
      "cell_type": "code",
      "execution_count": 8,
      "metadata": {
        "colab": {
          "base_uri": "https://localhost:8080/"
        },
        "id": "MxSrE3-0p1rK",
        "outputId": "fb893987-c619-402d-8752-1c51d9b3629f"
      },
      "outputs": [
        {
          "data": {
            "text/plain": [
              "0      purchased router woodworking show watching cmt...\n",
              "1      aint cutting edge pun intended state art lates...\n",
              "2      hitachis m12v big beast routerweight1uccpower1...\n",
              "3      truly clydesdale among industry 3hp router wor...\n",
              "4                                 excellent router money\n",
              "                             ...                        \n",
              "436       ear buds come look cheap sound quality amazing\n",
              "437    click wheel incredibly convenient however litt...\n",
              "438    big fan itunes simply terribly fast convenient...\n",
              "439                                         way go apple\n",
              "440    rarely get drawn masscommercialism something i...\n",
              "Name: review, Length: 441, dtype: object"
            ]
          },
          "execution_count": 8,
          "metadata": {},
          "output_type": "execute_result"
        }
      ],
      "source": [
        "# Applying preprocessing function\n",
        "drafted_df[\"review\"] = drafted_df[\"review\"].apply(preprcessing)\n",
        "drafted_df[\"review\"]"
      ]
    },
    {
      "cell_type": "code",
      "execution_count": 9,
      "metadata": {
        "colab": {
          "base_uri": "https://localhost:8080/"
        },
        "id": "MbtjKecMp3v-",
        "outputId": "0c1498f6-69fd-4b05-ca4e-ede1a121728f"
      },
      "outputs": [
        {
          "name": "stdout",
          "output_type": "stream",
          "text": [
            "Found 1758 unique tokens.\n"
          ]
        }
      ],
      "source": [
        "# The maximum number of words to be used.\n",
        "MAX_NB_WORDS = 1000\n",
        "# Max number of words in each complaint.\n",
        "MAX_SEQUENCE_LENGTH = 250\n",
        "\n",
        "EMBEDDING_DIM = 100\n",
        "\n",
        "# Applying Tokenizer\n",
        "# Filtering unnecessary symbols, only extracting tokens\n",
        "tokenizer = Tokenizer(\n",
        "    num_words=MAX_NB_WORDS, filters='!\"#$%&()*+,-./:;<=>?@[\\]^_`{|}~', lower=True\n",
        ")\n",
        "tokenizer.fit_on_texts(drafted_df[\"review\"].values)\n",
        "word_index = tokenizer.word_index\n",
        "print(\"Found %s unique tokens.\" % len(word_index))"
      ]
    },
    {
      "cell_type": "code",
      "execution_count": 10,
      "metadata": {
        "colab": {
          "base_uri": "https://localhost:8080/"
        },
        "id": "ojftF-SJp4U3",
        "outputId": "6bb36ebc-d20c-4d79-afe7-d1b7296ef77c"
      },
      "outputs": [
        {
          "name": "stdout",
          "output_type": "stream",
          "text": [
            "Shape of data tensor: (441, 250)\n"
          ]
        },
        {
          "data": {
            "text/plain": [
              "array([[  0,   0,   0, ..., 654, 101, 655],\n",
              "       [  0,   0,   0, ..., 381, 663, 664],\n",
              "       [  0,   0,   0, ..., 102, 385, 666],\n",
              "       ...,\n",
              "       [  0,   0,   0, ...,  54,  22, 629],\n",
              "       [  0,   0,   0, ..., 208, 178,  65],\n",
              "       [  0,   0,   0, ..., 153,  94,   5]], dtype=int32)"
            ]
          },
          "execution_count": 10,
          "metadata": {},
          "output_type": "execute_result"
        }
      ],
      "source": [
        "X = tokenizer.texts_to_sequences(drafted_df[\"review\"].values)\n",
        "# Pads sequences to the same length.\n",
        "X = pad_sequences(X, maxlen=MAX_SEQUENCE_LENGTH)\n",
        "print(\"Shape of data tensor:\", X.shape)\n",
        "X"
      ]
    },
    {
      "cell_type": "code",
      "execution_count": 11,
      "metadata": {
        "colab": {
          "base_uri": "https://localhost:8080/"
        },
        "id": "DRbS5J-pp5q3",
        "outputId": "36c6fd41-8a35-4a09-a934-db36156e1e0a"
      },
      "outputs": [
        {
          "name": "stdout",
          "output_type": "stream",
          "text": [
            "Shape of label tensor: (441,)\n"
          ]
        }
      ],
      "source": [
        "# Replacing \"positive\" annotation with 1, and \"negative\" annotation with 0\n",
        "drafted_df[\"sentiment\"] = drafted_df[\"sentiment\"].replace([\"positive\"], 1)\n",
        "drafted_df[\"sentiment\"] = drafted_df[\"sentiment\"].replace([\"negative\"], 0)\n",
        "Y = drafted_df[\"sentiment\"].values\n",
        "print(\"Shape of label tensor:\", Y.shape)"
      ]
    },
    {
      "cell_type": "code",
      "execution_count": 12,
      "metadata": {
        "colab": {
          "base_uri": "https://localhost:8080/"
        },
        "id": "OPP0jTT3p7oZ",
        "outputId": "64c7c3e7-05bb-4655-d7b5-6c921aedb1aa"
      },
      "outputs": [
        {
          "name": "stdout",
          "output_type": "stream",
          "text": [
            "(352, 250) (352,)\n",
            "(89, 250) (89,)\n"
          ]
        }
      ],
      "source": [
        "X_train, X_test, Y_train, Y_test = train_test_split(X, Y, test_size=0.20, shuffle=True)\n",
        "\n",
        "print(X_train.shape, Y_train.shape)\n",
        "print(X_test.shape, Y_test.shape)"
      ]
    },
    {
      "cell_type": "code",
      "execution_count": 13,
      "metadata": {
        "colab": {
          "base_uri": "https://localhost:8080/"
        },
        "id": "_O7l4SoLp-Yv",
        "outputId": "c378c91c-4b57-415e-ddce-05f6bfc2bf3c"
      },
      "outputs": [
        {
          "name": "stdout",
          "output_type": "stream",
          "text": [
            "Model: \"sequential\"\n",
            "_________________________________________________________________\n",
            " Layer (type)                Output Shape              Param #   \n",
            "=================================================================\n",
            " embedding (Embedding)       (None, 250, 100)          100000    \n",
            "                                                                 \n",
            " spatial_dropout1d (SpatialD  (None, 250, 100)         0         \n",
            " ropout1D)                                                       \n",
            "                                                                 \n",
            " lstm (LSTM)                 (None, 100)               80400     \n",
            "                                                                 \n",
            " dense (Dense)               (None, 1)                 101       \n",
            "                                                                 \n",
            "=================================================================\n",
            "Total params: 180,501\n",
            "Trainable params: 180,501\n",
            "Non-trainable params: 0\n",
            "_________________________________________________________________\n",
            "None\n"
          ]
        }
      ],
      "source": [
        "model = Sequential()\n",
        "model.add(Embedding(MAX_NB_WORDS, EMBEDDING_DIM, input_length=X.shape[1]))\n",
        "model.add(SpatialDropout1D(0.2))\n",
        "model.add(LSTM(100, dropout=0.2, recurrent_dropout=0.2))\n",
        "model.add(Dense(1, activation=\"sigmoid\"))\n",
        "model.compile(loss=\"binary_crossentropy\", optimizer=\"adam\", metrics=[\"accuracy\"])\n",
        "print(model.summary())"
      ]
    },
    {
      "cell_type": "code",
      "execution_count": 14,
      "metadata": {
        "colab": {
          "base_uri": "https://localhost:8080/"
        },
        "id": "tQ8iuU05p_6F",
        "outputId": "f44586cd-121e-43ee-d4f2-cfa897002122"
      },
      "outputs": [
        {
          "name": "stdout",
          "output_type": "stream",
          "text": [
            "Epoch 1/50\n",
            "20/20 [==============================] - 25s 1s/step - loss: 0.6193 - accuracy: 0.7025 - val_loss: 0.5668 - val_accuracy: 0.7778\n",
            "Epoch 2/50\n",
            "20/20 [==============================] - 15s 716ms/step - loss: 0.5780 - accuracy: 0.7184 - val_loss: 0.5313 - val_accuracy: 0.7778\n",
            "Epoch 3/50\n",
            "20/20 [==============================] - 9s 448ms/step - loss: 0.5327 - accuracy: 0.7215 - val_loss: 0.5232 - val_accuracy: 0.7778\n",
            "Epoch 4/50\n",
            "20/20 [==============================] - 9s 449ms/step - loss: 0.4358 - accuracy: 0.8070 - val_loss: 0.5012 - val_accuracy: 0.7500\n",
            "Epoch 5/50\n",
            "20/20 [==============================] - 9s 452ms/step - loss: 0.2684 - accuracy: 0.9241 - val_loss: 0.6081 - val_accuracy: 0.7500\n",
            "Epoch 6/50\n",
            "20/20 [==============================] - 9s 448ms/step - loss: 0.1312 - accuracy: 0.9557 - val_loss: 0.7324 - val_accuracy: 0.7222\n",
            "Epoch 7/50\n",
            "20/20 [==============================] - 9s 461ms/step - loss: 0.0923 - accuracy: 0.9747 - val_loss: 0.7193 - val_accuracy: 0.7778\n"
          ]
        }
      ],
      "source": [
        "epochs = 50\n",
        "batch_size = 16\n",
        "\n",
        "history = model.fit(\n",
        "    X_train,\n",
        "    Y_train,\n",
        "    epochs=epochs,\n",
        "    batch_size=batch_size,\n",
        "    validation_split=0.1,\n",
        "    callbacks=[EarlyStopping(monitor=\"val_loss\", patience=3, min_delta=0.0001)],\n",
        ")"
      ]
    },
    {
      "cell_type": "code",
      "execution_count": 15,
      "metadata": {
        "colab": {
          "base_uri": "https://localhost:8080/"
        },
        "id": "RhrpLYYNqB4H",
        "outputId": "8012ac23-83ed-4b5b-96cb-6bb3707fb893"
      },
      "outputs": [
        {
          "name": "stdout",
          "output_type": "stream",
          "text": [
            "3/3 [==============================] - 0s 79ms/step - loss: 0.5298 - accuracy: 0.7191\n",
            "Test set\n",
            "  Loss: 0.530\n",
            "  Accuracy: 0.719\n"
          ]
        }
      ],
      "source": [
        "accr = model.evaluate(X_test, Y_test)\n",
        "print(\"Test set\\n  Loss: {:0.3f}\\n  Accuracy: {:0.3f}\".format(accr[0], accr[1]))"
      ]
    },
    {
      "cell_type": "code",
      "execution_count": 16,
      "metadata": {
        "colab": {
          "base_uri": "https://localhost:8080/"
        },
        "id": "bmcP9LdLqDWJ",
        "outputId": "c31c1e4a-84f1-41f4-8e46-46bd720bea3d"
      },
      "outputs": [
        {
          "name": "stdout",
          "output_type": "stream",
          "text": [
            "3/3 [==============================] - 1s 91ms/step\n",
            "\n",
            "==== Classification Report ====\n",
            "              precision    recall  f1-score   support\n",
            "\n",
            "           0       0.52      0.50      0.51        26\n",
            "           1       0.80      0.81      0.80        63\n",
            "\n",
            "    accuracy                           0.72        89\n",
            "   macro avg       0.66      0.65      0.66        89\n",
            "weighted avg       0.72      0.72      0.72        89\n",
            "\n"
          ]
        }
      ],
      "source": [
        "y_prediction = model.predict(X_test)\n",
        "print(\"\\n==== Classification Report ====\")\n",
        "print(classification_report(Y_test, y_prediction.round()))"
      ]
    },
    {
      "cell_type": "code",
      "execution_count": 17,
      "metadata": {
        "colab": {
          "base_uri": "https://localhost:8080/",
          "height": 281
        },
        "id": "ig7NtXLzqF2j",
        "outputId": "fec0278d-ccd1-4eed-9295-46d1c0de53e7"
      },
      "outputs": [
        {
          "data": {
            "image/png": "[encoded data removed]",
            "text/plain": [
              "<Figure size 432x288 with 1 Axes>"
            ]
          },
          "metadata": {
            "needs_background": "light"
          },
          "output_type": "display_data"
        }
      ],
      "source": [
        "plt.title(\"Loss\")\n",
        "plt.plot(history.history[\"loss\"], label=\"train\")\n",
        "plt.plot(history.history[\"val_loss\"], label=\"test\")\n",
        "plt.legend()\n",
        "plt.show()"
      ]
    },
    {
      "cell_type": "code",
      "execution_count": 18,
      "metadata": {
        "colab": {
          "base_uri": "https://localhost:8080/",
          "height": 281
        },
        "id": "0pYZl4XrqHK8",
        "outputId": "31d37732-81ae-481c-cb9b-3c48a4280c9a"
      },
      "outputs": [
        {
          "data": {
            "image/png": "[encoded data removed]",
            "text/plain": [
              "<Figure size 432x288 with 1 Axes>"
            ]
          },
          "metadata": {
            "needs_background": "light"
          },
          "output_type": "display_data"
        }
      ],
      "source": [
        "plt.title(\"Accuracy\")\n",
        "plt.plot(history.history[\"accuracy\"], label=\"train\")\n",
        "plt.plot(history.history[\"val_accuracy\"], label=\"test\")\n",
        "plt.legend()\n",
        "plt.show()"
      ]
    },
    {
      "cell_type": "code",
      "execution_count": 19,
      "metadata": {
        "colab": {
          "base_uri": "https://localhost:8080/"
        },
        "id": "orxG65jC3DkS",
        "outputId": "f49a8b36-14f3-44ec-c054-700f991e5074"
      },
      "outputs": [
        {
          "name": "stdout",
          "output_type": "stream",
          "text": [
            "Epoch 1/50\n",
            "20/20 [==============================] - 13s 469ms/step - loss: 0.6351 - accuracy: 0.7057 - val_loss: 0.6251 - val_accuracy: 0.6944\n",
            "Epoch 2/50\n",
            "20/20 [==============================] - 9s 451ms/step - loss: 0.5675 - accuracy: 0.7310 - val_loss: 0.6326 - val_accuracy: 0.6944\n",
            "Epoch 3/50\n",
            "20/20 [==============================] - 9s 456ms/step - loss: 0.5207 - accuracy: 0.7310 - val_loss: 0.6095 - val_accuracy: 0.6944\n",
            "Epoch 4/50\n",
            "20/20 [==============================] - 9s 449ms/step - loss: 0.4151 - accuracy: 0.7911 - val_loss: 0.6010 - val_accuracy: 0.6944\n",
            "Epoch 5/50\n",
            "20/20 [==============================] - 11s 565ms/step - loss: 0.2481 - accuracy: 0.9209 - val_loss: 0.5479 - val_accuracy: 0.7222\n",
            "Epoch 6/50\n",
            "20/20 [==============================] - 9s 449ms/step - loss: 0.1621 - accuracy: 0.9842 - val_loss: 0.6702 - val_accuracy: 0.7222\n",
            "Epoch 7/50\n",
            "20/20 [==============================] - 9s 458ms/step - loss: 0.0765 - accuracy: 0.9810 - val_loss: 0.8264 - val_accuracy: 0.6944\n",
            "Epoch 8/50\n",
            "20/20 [==============================] - 11s 563ms/step - loss: 0.0541 - accuracy: 0.9810 - val_loss: 0.7204 - val_accuracy: 0.7222\n",
            "3/3 [==============================] - 0s 77ms/step - loss: 0.8293 - accuracy: 0.7191\n",
            "3/3 [==============================] - 0s 70ms/step\n",
            "\n",
            "==== Classification Report ====\n",
            "              precision    recall  f1-score   support\n",
            "\n",
            "           0       0.56      0.37      0.44        27\n",
            "           1       0.76      0.87      0.81        62\n",
            "\n",
            "    accuracy                           0.72        89\n",
            "   macro avg       0.66      0.62      0.63        89\n",
            "weighted avg       0.70      0.72      0.70        89\n",
            "\n",
            "\n",
            "\n",
            "\n",
            "Test set\n",
            "  Loss: 0.829\n",
            "  Accuracy: 0.719\n",
            "Epoch 1/50\n",
            "20/20 [==============================] - 13s 479ms/step - loss: 0.6207 - accuracy: 0.7129 - val_loss: 0.6733 - val_accuracy: 0.6389\n",
            "Epoch 2/50\n",
            "20/20 [==============================] - 9s 456ms/step - loss: 0.5636 - accuracy: 0.7224 - val_loss: 0.6842 - val_accuracy: 0.6389\n",
            "Epoch 3/50\n",
            "20/20 [==============================] - 9s 454ms/step - loss: 0.5060 - accuracy: 0.7508 - val_loss: 0.6724 - val_accuracy: 0.6389\n",
            "Epoch 4/50\n",
            "20/20 [==============================] - 9s 459ms/step - loss: 0.3513 - accuracy: 0.8423 - val_loss: 0.6179 - val_accuracy: 0.5833\n",
            "Epoch 5/50\n",
            "20/20 [==============================] - 9s 454ms/step - loss: 0.1846 - accuracy: 0.9432 - val_loss: 0.6526 - val_accuracy: 0.6389\n",
            "Epoch 6/50\n",
            "20/20 [==============================] - 9s 453ms/step - loss: 0.1070 - accuracy: 0.9716 - val_loss: 0.7389 - val_accuracy: 0.6389\n",
            "Epoch 7/50\n",
            "20/20 [==============================] - 9s 457ms/step - loss: 0.0671 - accuracy: 0.9779 - val_loss: 0.9253 - val_accuracy: 0.6111\n",
            "3/3 [==============================] - 0s 80ms/step - loss: 0.8895 - accuracy: 0.6705\n",
            "3/3 [==============================] - 1s 82ms/step\n",
            "\n",
            "==== Classification Report ====\n",
            "              precision    recall  f1-score   support\n",
            "\n",
            "           0       0.40      0.64      0.49        22\n",
            "           1       0.85      0.68      0.76        66\n",
            "\n",
            "    accuracy                           0.67        88\n",
            "   macro avg       0.62      0.66      0.62        88\n",
            "weighted avg       0.74      0.67      0.69        88\n",
            "\n",
            "\n",
            "\n",
            "\n",
            "Test set\n",
            "  Loss: 0.889\n",
            "  Accuracy: 0.670\n",
            "Epoch 1/50\n",
            "20/20 [==============================] - 13s 487ms/step - loss: 0.6104 - accuracy: 0.7413 - val_loss: 0.6505 - val_accuracy: 0.6389\n",
            "Epoch 2/50\n",
            "20/20 [==============================] - 9s 462ms/step - loss: 0.5541 - accuracy: 0.7476 - val_loss: 0.6677 - val_accuracy: 0.6389\n",
            "Epoch 3/50\n",
            "20/20 [==============================] - 9s 455ms/step - loss: 0.5083 - accuracy: 0.7476 - val_loss: 0.6826 - val_accuracy: 0.6389\n",
            "Epoch 4/50\n",
            "20/20 [==============================] - 9s 455ms/step - loss: 0.4236 - accuracy: 0.7792 - val_loss: 0.6560 - val_accuracy: 0.6389\n",
            "3/3 [==============================] - 0s 88ms/step - loss: 0.6330 - accuracy: 0.6705\n",
            "3/3 [==============================] - 0s 75ms/step\n",
            "\n",
            "==== Classification Report ====\n",
            "              precision    recall  f1-score   support\n",
            "\n",
            "           0       0.67      0.07      0.12        30\n",
            "           1       0.67      0.98      0.80        58\n",
            "\n",
            "    accuracy                           0.67        88\n",
            "   macro avg       0.67      0.52      0.46        88\n",
            "weighted avg       0.67      0.67      0.57        88\n",
            "\n",
            "\n",
            "\n",
            "\n",
            "Test set\n",
            "  Loss: 0.633\n",
            "  Accuracy: 0.670\n",
            "Epoch 1/50\n",
            "20/20 [==============================] - 13s 478ms/step - loss: 0.6671 - accuracy: 0.6972 - val_loss: 0.6524 - val_accuracy: 0.6667\n",
            "Epoch 2/50\n",
            "20/20 [==============================] - 9s 449ms/step - loss: 0.6221 - accuracy: 0.7098 - val_loss: 0.6293 - val_accuracy: 0.6667\n",
            "Epoch 3/50\n",
            "20/20 [==============================] - 9s 457ms/step - loss: 0.5509 - accuracy: 0.7098 - val_loss: 0.6257 - val_accuracy: 0.6667\n",
            "Epoch 4/50\n",
            "20/20 [==============================] - 9s 460ms/step - loss: 0.4538 - accuracy: 0.7508 - val_loss: 0.5802 - val_accuracy: 0.6667\n",
            "Epoch 5/50\n",
            "20/20 [==============================] - 9s 458ms/step - loss: 0.2755 - accuracy: 0.9054 - val_loss: 0.5779 - val_accuracy: 0.7222\n",
            "Epoch 6/50\n",
            "20/20 [==============================] - 9s 456ms/step - loss: 0.1518 - accuracy: 0.9495 - val_loss: 0.5805 - val_accuracy: 0.6944\n",
            "Epoch 7/50\n",
            "20/20 [==============================] - 9s 456ms/step - loss: 0.0872 - accuracy: 0.9811 - val_loss: 0.7089 - val_accuracy: 0.6944\n",
            "Epoch 8/50\n",
            "20/20 [==============================] - 9s 456ms/step - loss: 0.0532 - accuracy: 0.9874 - val_loss: 0.8056 - val_accuracy: 0.6944\n",
            "3/3 [==============================] - 0s 75ms/step - loss: 0.6836 - accuracy: 0.7273\n"
          ]
        },
        {
          "name": "stderr",
          "output_type": "stream",
          "text": [
            "WARNING:tensorflow:5 out of the last 13 calls to <function Model.make_predict_function.<locals>.predict_function at 0x7f9596aff8b0> triggered tf.function retracing. Tracing is expensive and the excessive number of tracings could be due to (1) creating @tf.function repeatedly in a loop, (2) passing tensors with different shapes, (3) passing Python objects instead of tensors. For (1), please define your @tf.function outside of the loop. For (2), @tf.function has reduce_retracing=True option that can avoid unnecessary retracing. For (3), please refer to https://www.tensorflow.org/guide/function#controlling_retracing and https://www.tensorflow.org/api_docs/python/tf/function for  more details.\n"
          ]
        },
        {
          "name": "stdout",
          "output_type": "stream",
          "text": [
            "3/3 [==============================] - 1s 83ms/step\n",
            "\n",
            "==== Classification Report ====\n",
            "              precision    recall  f1-score   support\n",
            "\n",
            "           0       0.35      0.32      0.33        19\n",
            "           1       0.82      0.84      0.83        69\n",
            "\n",
            "    accuracy                           0.73        88\n",
            "   macro avg       0.58      0.58      0.58        88\n",
            "weighted avg       0.72      0.73      0.72        88\n",
            "\n",
            "\n",
            "\n",
            "\n",
            "Test set\n",
            "  Loss: 0.684\n",
            "  Accuracy: 0.727\n",
            "Epoch 1/50\n",
            "20/20 [==============================] - 15s 587ms/step - loss: 0.6137 - accuracy: 0.7319 - val_loss: 0.6866 - val_accuracy: 0.6111\n",
            "Epoch 2/50\n",
            "20/20 [==============================] - 9s 451ms/step - loss: 0.5810 - accuracy: 0.7350 - val_loss: 0.7037 - val_accuracy: 0.6111\n",
            "Epoch 3/50\n",
            "20/20 [==============================] - 9s 455ms/step - loss: 0.5219 - accuracy: 0.7350 - val_loss: 0.7242 - val_accuracy: 0.6111\n",
            "Epoch 4/50\n",
            "20/20 [==============================] - 9s 454ms/step - loss: 0.4355 - accuracy: 0.7855 - val_loss: 0.7573 - val_accuracy: 0.5556\n",
            "3/3 [==============================] - 0s 75ms/step - loss: 0.4980 - accuracy: 0.7614\n"
          ]
        },
        {
          "name": "stderr",
          "output_type": "stream",
          "text": [
            "WARNING:tensorflow:5 out of the last 13 calls to <function Model.make_predict_function.<locals>.predict_function at 0x7f9597eb9790> triggered tf.function retracing. Tracing is expensive and the excessive number of tracings could be due to (1) creating @tf.function repeatedly in a loop, (2) passing tensors with different shapes, (3) passing Python objects instead of tensors. For (1), please define your @tf.function outside of the loop. For (2), @tf.function has reduce_retracing=True option that can avoid unnecessary retracing. For (3), please refer to https://www.tensorflow.org/guide/function#controlling_retracing and https://www.tensorflow.org/api_docs/python/tf/function for  more details.\n"
          ]
        },
        {
          "name": "stdout",
          "output_type": "stream",
          "text": [
            "3/3 [==============================] - 0s 73ms/step\n",
            "\n",
            "==== Classification Report ====\n",
            "              precision    recall  f1-score   support\n",
            "\n",
            "           0       0.83      0.20      0.32        25\n",
            "           1       0.76      0.98      0.86        63\n",
            "\n",
            "    accuracy                           0.76        88\n",
            "   macro avg       0.79      0.59      0.59        88\n",
            "weighted avg       0.78      0.76      0.70        88\n",
            "\n",
            "\n",
            "\n",
            "\n",
            "Test set\n",
            "  Loss: 0.498\n",
            "  Accuracy: 0.761\n",
            "\n",
            "\n",
            "\n",
            "Average Accuracy:  0.7097293257713317\n",
            "Standard Deviation Accuracy:  0.03506199516443391\n",
            "\n",
            "\n",
            "\n",
            "Average Loss:  0.706676983833313\n",
            "Standard Deviation Loss:  0.13996471343871608\n"
          ]
        }
      ],
      "source": [
        "kf = KFold(n_splits=5, shuffle=True)\n",
        "losses = []\n",
        "accuracies = []\n",
        "for train_index, test_index in kf.split(X):\n",
        "    X_train, X_test = X[train_index], X[test_index]\n",
        "    Y_train, Y_test = Y[train_index], Y[test_index]\n",
        "\n",
        "    model = Sequential()\n",
        "    model.add(Embedding(MAX_NB_WORDS, EMBEDDING_DIM, input_length=X.shape[1]))\n",
        "    model.add(SpatialDropout1D(0.2))\n",
        "    model.add(LSTM(100, dropout=0.2, recurrent_dropout=0.2))\n",
        "    model.add(Dense(1, activation=\"sigmoid\"))\n",
        "    model.compile(loss=\"binary_crossentropy\", optimizer=\"adam\", metrics=[\"accuracy\"])\n",
        "\n",
        "    history = model.fit(\n",
        "        X_train,\n",
        "        Y_train,\n",
        "        epochs=epochs,\n",
        "        batch_size=batch_size,\n",
        "        validation_split=0.1,\n",
        "        callbacks=[EarlyStopping(monitor=\"val_loss\", patience=3, min_delta=0.0001)],\n",
        "    )\n",
        "\n",
        "    accr = model.evaluate(X_test, Y_test)\n",
        "\n",
        "    y_prediction = model.predict(X_test)\n",
        "    print(\"\\n==== Classification Report ====\")\n",
        "    print(classification_report(Y_test, y_prediction.round()))\n",
        "    print(\"\\n\\n\")\n",
        "    accuracies.append(accr[1])\n",
        "    losses.append(accr[0])\n",
        "\n",
        "    print(\"Test set\\n  Loss: {:0.3f}\\n  Accuracy: {:0.3f}\".format(accr[0], accr[1]))\n",
        "\n",
        "print(\"\\n\\n\")\n",
        "mean_accuracy = np.mean(accuracies)\n",
        "print(\"Average Accuracy: \", mean_accuracy)\n",
        "std_accuracy = np.std(accuracies)\n",
        "print(\"Standard Deviation Accuracy: \", std_accuracy)\n",
        "print(\"\\n\\n\")\n",
        "mean_loss = np.mean(losses)\n",
        "print(\"Average Loss: \", mean_loss)\n",
        "std_loss = np.std(losses)\n",
        "print(\"Standard Deviation Loss: \", std_loss)"
      ]
    }
  ],
  "metadata": {
    "colab": {
      "provenance": []
    },
    "kernelspec": {
      "display_name": "pytorch-tutorial",
      "language": "python",
      "name": "python3"
    },
    "language_info": {
      "name": "python",
      "version": "3.10.8"
    },
    "vscode": {
      "interpreter": {
        "hash": "79eb9bb549ba35890c62b0405c7bcf5899e60685a3d69dcc93a9072188632345"
      }
    }
  },
  "nbformat": 4,
  "nbformat_minor": 0
}
